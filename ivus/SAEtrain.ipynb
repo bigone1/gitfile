{
 "cells": [
  {
   "cell_type": "code",
   "execution_count": 4,
   "metadata": {
    "collapsed": true
   },
   "outputs": [],
   "source": [
    "import tensorflow as tf\n",
    "import numpy as np"
   ]
  },
  {
   "cell_type": "code",
   "execution_count": 6,
   "metadata": {},
   "outputs": [],
   "source": [
    "batch_size = 140\n",
    "x=tf.placeholder(tf.float32,[None,18])\n",
    "\n",
    "p=0.1\n",
    "beta=3\n",
    "lamda=0.0001\n",
    "\n",
    "w=tf.Variable(tf.random_normal([18,160]))\n",
    "b=tf.Variable(tf.zeros(160)+0.1)\n",
    "w1=tf.Variable(tf.random_normal([160,18]))\n",
    "b1=tf.Variable(tf.zeros(18)+0.1)\n",
    "hidden_output=tf.nn.sigmoid(tf.matmul(x,w)+b)\n",
    "pj=tf.reduce_mean(hidden_output,1)\n",
    "sparse_cost=tf.reduce_sum(p*tf.log(p/pj)+(1-p)*tf.log((1-p)/(1-pj)))\n",
    "output=tf.nn.sigmoid(tf.matmul(hidden_output,w1)+b1)\n",
    "regular=lamda*(tf.reduce_sum(w*w)+tf.reduce_sum(w1*w1))/2\n",
    "cross_entropy=tf.reduce_mean(tf.reduce_sum(tf.square(output-x),1))+sparse_cost*beta+regular\n",
    "train_step=tf.train.AdamOptimizer(0.1).minimize(cross_entropy)\n",
    "\n",
    "dataset=np.load('traindataset1.npy')\n",
    "dataset=dataset/255\n",
    "init=tf.global_variables_initializer()\n",
    "\n",
    "with tf.Session() as sess:\n",
    "    sess.run(init)\n",
    "    for i in range(30):\n",
    "        total_batch = int(dataset.shape[0]/batch_size)\n",
    "        for j in range(total_batch):\n",
    "            batch_xs = dataset[j*batch_size:j*batch_size+batch_size,:]\n",
    "            _,c=sess.run([train_step,cross_entropy],feed_dict={x:batch_xs})\n",
    "    hiddendata=sess.run(hidden_output,feed_dict={x:dataset})\n",
    "    np.save('hiddendata.npy',hiddendata)\n",
    "\n",
    "    \n",
    "    \n",
    "    #     singleimg=dataset[0:32736,:]\n",
    "#     normaldata=normalizedata(singleimg)\n",
    "#     for i in range(400):\n",
    "#         hidden,out,_=sess.run([hidden_output,output,train_step],feed_dict={x:normaldata})\n",
    "#     print(out)\n",
    "#     print('=====================')\n",
    "#     print(normaldata)\n",
    "#     print('=====================')\n",
    "#     print(out-normaldata)\n",
    "        "
   ]
  },
  {
   "cell_type": "code",
   "execution_count": null,
   "metadata": {
    "collapsed": true
   },
   "outputs": [],
   "source": []
  }
 ],
 "metadata": {
  "kernelspec": {
   "display_name": "Python 3",
   "language": "python",
   "name": "python3"
  },
  "language_info": {
   "codemirror_mode": {
    "name": "ipython",
    "version": 3
   },
   "file_extension": ".py",
   "mimetype": "text/x-python",
   "name": "python",
   "nbconvert_exporter": "python",
   "pygments_lexer": "ipython3",
   "version": "3.5.5"
  }
 },
 "nbformat": 4,
 "nbformat_minor": 2
}
