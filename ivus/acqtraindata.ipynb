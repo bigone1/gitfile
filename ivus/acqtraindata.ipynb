{
 "cells": [
  {
   "cell_type": "code",
   "execution_count": null,
   "metadata": {
    "collapsed": true
   },
   "outputs": [],
   "source": [
    "import numpy as np\n",
    "import cv2"
   ]
  },
  {
   "cell_type": "code",
   "execution_count": null,
   "metadata": {
    "collapsed": true
   },
   "outputs": [],
   "source": [
    "def eight_neigh(img,i,j):\n",
    "    n=img[i-1:i+2,j-1:j+2]\n",
    "    return n\n",
    "\n",
    "def block_neigh(img,i,j):\n",
    "    m=np.zeros((3,3))\n",
    "    m[0,0]=np.sum(img[i-7:i-2,j-7:j-2])/25\n",
    "    m[0,1]=np.sum(img[i-7:i-2,j-2:j+3])/25\n",
    "    m[0,2]=np.sum(img[i-7:i-2,j+3:j+8])/25\n",
    "    m[1,0]=np.sum(img[i-2:i+3,j-7:j-2])/25\n",
    "    m[1,1]=np.sum(img[i-2:i+3,j-2:j+3])/25\n",
    "    m[1,2]=np.sum(img[i-2:i+3,j+3:j+8])/25\n",
    "    m[2,0]=np.sum(img[i+3:i+8,j-7:j-2])/25\n",
    "    m[2,1]=np.sum(img[i+3:i+8,j-2:j+3])/25\n",
    "    m[2,2]=np.sum(img[i+3:i+8,j+3:j+8])/25\n",
    "    return m\n",
    "\n",
    "data0=[]\n",
    "x0=[]\n",
    "y0=[]\n",
    "index=[]\n",
    "\n",
    "for ite in range(35):\n",
    "    filename=r'D:\\File\\Jupyter\\ivus\\train'+'\\\\'+str(ite+1)+'x.jpg'\n",
    "    filename1=r'D:\\File\\Jupyter\\ivus\\train'+'\\\\'+str(ite+1)+'.jpg'\n",
    "    img=cv2.imread(filename,0)\n",
    "    img1=cv2.imread(filename1,0)\n",
    "    ret,thresh=cv2.threshold(img,100,1,cv2.THRESH_BINARY)\n",
    "    data=[]\n",
    "    x=[]\n",
    "    y=[]\n",
    "    k=0\n",
    "    for i in range(300):\n",
    "        for j in range(300):\n",
    "            if thresh[i,j]==1:\n",
    "                x.append(i)\n",
    "                y.append(j)\n",
    "                k+=1\n",
    "    for xx,yy in zip(x,y):\n",
    "        m=block_neigh(img1,xx,yy).flatten()\n",
    "        q=eight_neigh(img1,xx,yy).flatten()\n",
    "        out=np.hstack((m,q))\n",
    "        data.append(out)\n",
    "    \n",
    "    data0=data0+data\n",
    "    x0=x0+x\n",
    "    y0=y0+y\n",
    "    index=index+k\n",
    "\n",
    "data0=np.array(data0)\n",
    "x0=np.array(x0)\n",
    "y0=np.array(y0)\n",
    "np.save('traindata.npy',data0)\n",
    "np.save('trainxaxes.npy',x0)\n",
    "np.save('trainyaxes.npy',y0)\n",
    "np.save('index.npy',index)"
   ]
  }
 ],
 "metadata": {
  "kernelspec": {
   "display_name": "Python 3",
   "language": "python",
   "name": "python3"
  },
  "language_info": {
   "codemirror_mode": {
    "name": "ipython",
    "version": 3
   },
   "file_extension": ".py",
   "mimetype": "text/x-python",
   "name": "python",
   "nbconvert_exporter": "python",
   "pygments_lexer": "ipython3",
   "version": "3.5.5"
  }
 },
 "nbformat": 4,
 "nbformat_minor": 2
}
