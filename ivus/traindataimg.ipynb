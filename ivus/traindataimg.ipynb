{
 "cells": [
  {
   "cell_type": "code",
   "execution_count": null,
   "metadata": {
    "collapsed": true
   },
   "outputs": [],
   "source": [
    "import numpy as np\n",
    "import cv2\n",
    "\n",
    "for ite in range(35):\n",
    "    filename=r'D:\\File\\Jupyter\\ivus\\train'+'\\\\'+str(ite+1)+'xx.jpg'\n",
    "    img=cv2.imread(filename)\n",
    "    d=np.zeros((3000,2))\n",
    "    b=img[:,:,1]\n",
    "    c=img[:,:,2]\n",
    "    k=0\n",
    "    for i in range(300):\n",
    "        for j in range(300):\n",
    "            if abs(int(b[i,j])-int(c[i,j]))>45:\n",
    "                d[k]=j,i\n",
    "                k+=1\n",
    "    dd=np.copy(d)\n",
    "    x=dd.shape[0]\n",
    "    for i in range(x):\n",
    "        if dd[i,0]==0 and dd[i,1]==0:\n",
    "            if d.shape[0]==x:\n",
    "                d=np.delete(d,i,axis=0)\n",
    "                k=i\n",
    "            else:\n",
    "                d=np.delete(d,k,axis=0)\n",
    "    p=[]\n",
    "    for i in range(d.shape[0]):\n",
    "        if d[i,1]<61:\n",
    "            p.append(i) \n",
    "    \n",
    "    ind=p[len(p)-1]\n",
    "    d=d[ind+1:]\n",
    "    \n",
    "    p1=[]\n",
    "    for i in range(d.shape[0]):\n",
    "        if d[i,1]>268:\n",
    "            p1.append(i)\n",
    "    if len(p1)>0:\n",
    "        d=d[:p1[0]]\n",
    "    d=d.reshape((-1,1,2))\n",
    "    d=d.astype(np.int32)\n",
    "    im=cv2.imread('101.jpg')\n",
    "    cv2.polylines(im,[d],True,(0,255,255),3)\n",
    "    cv2.imwrite(r'D:\\File\\Jupyter\\ivus\\train'+'\\\\'+str(ite+1)+'x.jpg',im)\n",
    "#    cv2.imshow('1',im)\n",
    "#    cv2.waitKey(0)\n",
    "#    cv2.destroyAllWindows()"
   ]
  }
 ],
 "metadata": {
  "kernelspec": {
   "display_name": "Python 3",
   "language": "python",
   "name": "python3"
  },
  "language_info": {
   "codemirror_mode": {
    "name": "ipython",
    "version": 3
   },
   "file_extension": ".py",
   "mimetype": "text/x-python",
   "name": "python",
   "nbconvert_exporter": "python",
   "pygments_lexer": "ipython3",
   "version": "3.5.5"
  }
 },
 "nbformat": 4,
 "nbformat_minor": 2
}
