{
 "cells": [
  {
   "cell_type": "code",
   "execution_count": 1,
   "metadata": {
    "collapsed": true
   },
   "outputs": [],
   "source": [
    "import numpy as np\n",
    "import cv2"
   ]
  },
  {
   "cell_type": "code",
   "execution_count": 2,
   "metadata": {
    "collapsed": true
   },
   "outputs": [],
   "source": [
    "def eight_neigh(img,i,j):\n",
    "    n=img[i-1:i+2,j-1:j+2]\n",
    "    return n\n",
    "\n",
    "def block_neigh(img,i,j):\n",
    "    m=np.zeros((3,3))\n",
    "    m[0,0]=np.sum(img[i-7:i-2,j-7:j-2])/25\n",
    "    m[0,1]=np.sum(img[i-7:i-2,j-2:j+3])/25\n",
    "    m[0,2]=np.sum(img[i-7:i-2,j+3:j+8])/25\n",
    "    m[1,0]=np.sum(img[i-2:i+3,j-7:j-2])/25\n",
    "    m[1,1]=np.sum(img[i-2:i+3,j-2:j+3])/25\n",
    "    m[1,2]=np.sum(img[i-2:i+3,j+3:j+8])/25\n",
    "    m[2,0]=np.sum(img[i+3:i+8,j-7:j-2])/25\n",
    "    m[2,1]=np.sum(img[i+3:i+8,j-2:j+3])/25\n",
    "    m[2,2]=np.sum(img[i+3:i+8,j+3:j+8])/25\n",
    "    return m"
   ]
  },
  {
   "cell_type": "code",
   "execution_count": 3,
   "metadata": {
    "collapsed": true
   },
   "outputs": [],
   "source": [
    "num_patch=163680\n",
    "num_label=32736\n",
    "insize=18\n",
    "dataset1=np.zeros((num_patch,insize))\n",
    "dataset2=np.zeros((num_patch,2))\n",
    "k=0\n",
    "for i in range(5):\n",
    "    filename=r'D:\\File\\Jupyter\\ivus\\test'+'\\\\'+str(i+1)+'yy.jpg'\n",
    "    images=cv2.imread(filename,0)\n",
    "    x,y=images.shape\n",
    "    for ii in range(7,x-7):\n",
    "        for jj in range(7,y-7):\n",
    "            xx=ii\n",
    "            yy=jj\n",
    "            m=block_neigh(images,ii,jj).flatten()\n",
    "            q=eight_neigh(images,ii,jj).flatten()\n",
    "            out2=np.hstack((xx,yy))\n",
    "            out1=np.hstack((m,q))\n",
    "            dataset1[k,:]=out1\n",
    "            dataset2[k,:]=out2\n",
    "            k=k+1\n",
    "            \n",
    "# labelname=r'D:\\File\\Jupyter\\ivus\\trainlabel\\211.jpg'\n",
    "# label_data=cv2.imread(labelname,0)\n",
    "# ret,thresh=cv2.threshold(label_data,100,1,cv2.THRESH_BINARY)\n",
    "# labeldata=np.zeros((num_label,1))\n",
    "# ind=0\n",
    "# for x in range(176):\n",
    "#     for y in range(186):\n",
    "#         if thresh[x+77,y+57]==1:\n",
    "#             labeldata[ind,0]=1\n",
    "#         ind+=1\n",
    "            \n",
    "np.save('testdataset1.npy',dataset1)\n",
    "np.save('testdataset2.npy',dataset2)\n"
   ]
  },
  {
   "cell_type": "code",
   "execution_count": null,
   "metadata": {
    "collapsed": true
   },
   "outputs": [],
   "source": []
  }
 ],
 "metadata": {
  "kernelspec": {
   "display_name": "Python 3",
   "language": "python",
   "name": "python3"
  },
  "language_info": {
   "codemirror_mode": {
    "name": "ipython",
    "version": 3
   },
   "file_extension": ".py",
   "mimetype": "text/x-python",
   "name": "python",
   "nbconvert_exporter": "python",
   "pygments_lexer": "ipython3",
   "version": "3.5.5"
  }
 },
 "nbformat": 4,
 "nbformat_minor": 2
}
