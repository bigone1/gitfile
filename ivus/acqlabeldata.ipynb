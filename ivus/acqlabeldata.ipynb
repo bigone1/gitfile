{
 "cells": [
  {
   "cell_type": "code",
   "execution_count": 1,
   "metadata": {
    "collapsed": true
   },
   "outputs": [],
   "source": [
    "import numpy as np\n",
    "import cv2"
   ]
  },
  {
   "cell_type": "code",
   "execution_count": null,
   "metadata": {
    "collapsed": true
   },
   "outputs": [],
   "source": [
    "x=np.load('trainxaxes.npy')\n",
    "y=np.load('trainyaxes.npy')\n",
    "ind=np.load('index.npy')\n",
    "\n",
    "totallabel=x.shape[0]\n",
    "label=np.zeros((totallabel,3))\n",
    "for i in range(totallabel):\n",
    "    label[i,0]=x[i]\n",
    "    label[i,1]=y[i]\n",
    "\n",
    "k=0\n",
    "\n",
    "for ite in range(35):\n",
    "    filename=r'D:\\File\\Jupyter\\ivus\\trainlabel'+'\\\\'+str(ite+1)+'yy.jpg'\n",
    "    img=cv2.imread(filename,0)\n",
    "    ret,thresh=cv2.threshold(img,100,1,cv2.THRESH_BINARY)\n",
    "    x1=[]\n",
    "    y1=[]\n",
    "    for i in range(300):\n",
    "        for j in range(300):\n",
    "            if thresh[i,j]==1:\n",
    "                x1.append(i)\n",
    "                y1.append(j)\n",
    "    \n",
    "    if ite!=0:\n",
    "        k+=ind[ite-1]\n",
    "    \n",
    "    for xx,yy in zip(x1,y1):\n",
    "        if ite==0:\n",
    "            for i in range(ind[ite]):\n",
    "                if label[i,0]==xx and label[i,1]==yy:\n",
    "                    label[i,2]=1\n",
    "                    break\n",
    "        else:\n",
    "            for i in range(k,k+ind[ite]):\n",
    "                if label[i,0]==xx and label[i,1]==yy:\n",
    "                    label[i,2]=1\n",
    "                    break\n",
    "                \n",
    "np.save('label.npy',label)"
   ]
  }
 ],
 "metadata": {
  "kernelspec": {
   "display_name": "Python 3",
   "language": "python",
   "name": "python3"
  },
  "language_info": {
   "codemirror_mode": {
    "name": "ipython",
    "version": 3
   },
   "file_extension": ".py",
   "mimetype": "text/x-python",
   "name": "python",
   "nbconvert_exporter": "python",
   "pygments_lexer": "ipython3",
   "version": "3.5.5"
  }
 },
 "nbformat": 4,
 "nbformat_minor": 2
}
