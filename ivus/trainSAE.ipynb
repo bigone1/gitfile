{
 "cells": [
  {
   "cell_type": "code",
   "execution_count": 1,
   "metadata": {
    "collapsed": true
   },
   "outputs": [],
   "source": [
    "import tensorflow as tf\n",
    "import numpy as np"
   ]
  },
  {
   "cell_type": "code",
   "execution_count": 2,
   "metadata": {
    "scrolled": false
   },
   "outputs": [
    {
     "name": "stdout",
     "output_type": "stream",
     "text": [
      "0.0063526\n",
      "0.00659372\n",
      "0.00662414\n",
      "0.0066301\n",
      "0.00664154\n",
      "0.00666199\n",
      "0.00668958\n",
      "0.00672129\n",
      "0.0067544\n",
      "0.00678705\n",
      "0.00681763\n",
      "0.00684523\n",
      "0.00686934\n",
      "0.00688972\n",
      "0.00690661\n",
      "0.00691983\n",
      "0.00693015\n",
      "0.00693768\n",
      "0.00694278\n",
      "0.00694591\n",
      "0.00694735\n",
      "0.00694763\n",
      "0.00694694\n",
      "0.00694584\n",
      "0.00694401\n",
      "0.00694229\n",
      "0.00694058\n",
      "0.00693906\n",
      "0.00693766\n",
      "0.00693685\n"
     ]
    }
   ],
   "source": [
    "batch_size = 140\n",
    "xs=tf.placeholder(tf.float32,[None,160])\n",
    "ys=tf.placeholder(tf.float32,[None,1])\n",
    "w=tf.Variable(tf.random_normal([160,1]))\n",
    "b=tf.Variable(tf.zeros([1])+0.1)\n",
    "pre=tf.matmul(xs,w)+b\n",
    "loss=tf.reduce_mean(tf.nn.sigmoid_cross_entropy_with_logits(labels=ys,logits=pre))\n",
    "train_step=tf.train.AdamOptimizer(0.1).minimize(loss)\n",
    "\n",
    "traindata=np.load('hiddendata.npy')\n",
    "labeldata=np.load('labeldata.npy')\n",
    "\n",
    "init=tf.global_variables_initializer()\n",
    "saver=tf.train.Saver()\n",
    "\n",
    "with tf.Session() as sess:\n",
    "    sess.run(init)\n",
    "    for ite in range(30):    \n",
    "        total_batch = int(traindata.shape[0]/batch_size)\n",
    "        for j in range(total_batch):\n",
    "            batch_xs,batch_ys = traindata[j*batch_size:j*batch_size+batch_size,:],labeldata[j*batch_size:j*batch_size+batch_size,:]\n",
    "            _,c=sess.run([train_step,loss],feed_dict={xs:batch_xs,ys:batch_ys})\n",
    "        print(c)\n",
    "#     k=0\n",
    "#     for i in range(27280):\n",
    "#         _,w1,b1,prediction=sess.run([train_step,w,b,pre],feed_dict={xs:traindata[i*24:i*24+24,:],ys:labeldata[k*24:k*24+24,:]})\n",
    "#         k=k+1\n",
    "#         if k==1364:\n",
    "#             k=0\n",
    "#     for i in range(1364):\n",
    "#         _,w1,b1,prediction=sess.run([train_step,w,b,pre],feed_dict={xs:traindata[i*24:i*24+24,:],ys:labeldata[k*24:k*24+24,:]})\n",
    "#         k=k+1\n",
    "#         if i%341==0:\n",
    "#             print(prediction)\n",
    "#     print('=========================')\n",
    "#     print(labeldata[100:200])\n",
    "       \n",
    "    saver.save(sess,'data/save.ckpt')"
   ]
  },
  {
   "cell_type": "code",
   "execution_count": null,
   "metadata": {
    "collapsed": true
   },
   "outputs": [],
   "source": []
  },
  {
   "cell_type": "code",
   "execution_count": null,
   "metadata": {
    "collapsed": true
   },
   "outputs": [],
   "source": []
  }
 ],
 "metadata": {
  "kernelspec": {
   "display_name": "Python 3",
   "language": "python",
   "name": "python3"
  },
  "language_info": {
   "codemirror_mode": {
    "name": "ipython",
    "version": 3
   },
   "file_extension": ".py",
   "mimetype": "text/x-python",
   "name": "python",
   "nbconvert_exporter": "python",
   "pygments_lexer": "ipython3",
   "version": "3.5.5"
  }
 },
 "nbformat": 4,
 "nbformat_minor": 2
}
