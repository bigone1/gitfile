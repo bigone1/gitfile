{
 "cells": [
  {
   "cell_type": "code",
   "execution_count": 1,
   "metadata": {
    "collapsed": true
   },
   "outputs": [],
   "source": [
    "import numpy as np\n",
    "import tensorflow as tf\n",
    "import cv2"
   ]
  },
  {
   "cell_type": "code",
   "execution_count": 2,
   "metadata": {
    "scrolled": false
   },
   "outputs": [
    {
     "name": "stdout",
     "output_type": "stream",
     "text": [
      "INFO:tensorflow:Restoring parameters from data/save.ckpt\n",
      "[ 28.31313705]\n"
     ]
    }
   ],
   "source": [
    "w=tf.Variable(tf.random_normal([160,1]))\n",
    "b=tf.Variable(tf.zeros([1])+0.1)\n",
    "saver=tf.train.Saver()\n",
    "\n",
    "dataset1=tf.placeholder(tf.float32,[None,160])\n",
    "loadata=np.load('testhiddendata.npy')\n",
    "out=tf.sigmoid(tf.matmul(dataset1,w)+b)\n",
    "outdata=np.zeros((300,300,5))\n",
    "k=0\n",
    "with tf.Session() as sess:\n",
    "    saver.restore(sess,'data/save.ckpt')\n",
    "#     for i in range(1):\n",
    "#         output=sess.run(out,feed_dict={dataset1:loadata[i*32736:i*32736+32736,:]})\n",
    "#         for x in range(176):\n",
    "#             for y in range(186):\n",
    "#                 if output[k,0]==1:\n",
    "#                     outdata[x+77,y+57,i]=255\n",
    "#                 k+=1\n",
    "# #         cv2.imwrite(r'D:\\File\\Jupyter\\ivus\\test'+'\\\\'+str(i+1)+'.jpg',outdata)\n",
    "#         k=0\n",
    "#         cv2.imshow('1',outdata[:,:,i])\n",
    "#         cv2.waitKey(0)\n",
    "#         cv2.destroyAllWindows()\n",
    "        \n",
    "    print(sess.run(b))\n",
    "#     print(output[1500:2000])\n",
    "#     print(sess.run(out)[150:1000])\n",
    "#     for i in range(num_patches):\n",
    "        \n",
    "    "
   ]
  },
  {
   "cell_type": "code",
   "execution_count": null,
   "metadata": {
    "collapsed": true
   },
   "outputs": [],
   "source": []
  }
 ],
 "metadata": {
  "kernelspec": {
   "display_name": "Python 3",
   "language": "python",
   "name": "python3"
  },
  "language_info": {
   "codemirror_mode": {
    "name": "ipython",
    "version": 3
   },
   "file_extension": ".py",
   "mimetype": "text/x-python",
   "name": "python",
   "nbconvert_exporter": "python",
   "pygments_lexer": "ipython3",
   "version": "3.5.5"
  }
 },
 "nbformat": 4,
 "nbformat_minor": 2
}
